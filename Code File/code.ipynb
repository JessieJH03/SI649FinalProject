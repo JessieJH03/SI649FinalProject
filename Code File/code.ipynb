{
 "cells": [
  {
   "cell_type": "code",
   "execution_count": 1,
   "metadata": {},
   "outputs": [],
   "source": [
    "import pandas as pd\n",
    "import numpy as np\n",
    "\n",
    "import requests\n",
    "\n",
    "import altair as alt\n",
    "\n",
    "import warnings\n",
    "warnings.filterwarnings('ignore')"
   ]
  },
  {
   "cell_type": "code",
   "execution_count": 2,
   "metadata": {},
   "outputs": [
    {
     "data": {
      "text/plain": [
       "'\\n# Specify encoding when reading the CSV\\ndf1 = pd.read_csv(\\'Data File/2023-2024 NBA Player Stats - Playoffs.csv\\', delimiter=\\';\\', encoding=\\'latin1\\')\\ndf2 = pd.read_csv(\\'Data File/2023-2024 NBA Player Stats - Regular.csv\\', delimiter=\\';\\', encoding=\\'latin1\\')\\n\\n# Append files\\nappended_df = pd.concat([df1, df2], ignore_index=True)\\n\\n# Save the result\\nappended_df.to_csv(\\'Data File/2023-2024 NBA Player Stats.csv\\', index=False)\\n\\n# List of Boston Celtics players\\n# Source: https://www.basketball-reference.com/teams/BOS/2024.html\\nceltics_players = [\\n    \"Dalano Banton\",\\n    \"Oshae Brissett\",\\n    \"Jaylen Brown\",\\n    \"JD Davison\",\\n    \"Sam Hauser\",\\n    \"Jrue Holiday\",\\n    \"Al Horford\",\\n    \"Luke Kornet\",\\n    \"Svi Mykhailiuk\",\\n    \"Drew Peterson\",\\n    \"Kristaps Porzingis\",\\n    \"Payton Pritchard\",\\n    \"Neemias Queta\",\\n    \"Jaden Springer\",\\n    \"Lamar Stevens\",\\n    \"Jayson Tatum\",\\n    \"Xavier Tillman Sr.\",\\n    \"Jordan Walsh\",\\n    \"Derrick White\"\\n]\\n\\n# Filter the dataset for players in the Celtics roster\\nfiltered_data = appended_df[appended_df[\\'Player\\'].isin(celtics_players)]\\n\\n# Save the filtered data to a new CSV file\\nfiltered_file_path = \\'celtics_players_stats.csv\\'\\nfiltered_data.to_csv(filtered_file_path, index=False)\\n'"
      ]
     },
     "execution_count": 2,
     "metadata": {},
     "output_type": "execute_result"
    }
   ],
   "source": [
    "'''\n",
    "# Specify encoding when reading the CSV\n",
    "df1 = pd.read_csv('Data File/2023-2024 NBA Player Stats - Playoffs.csv', delimiter=';', encoding='latin1')\n",
    "df2 = pd.read_csv('Data File/2023-2024 NBA Player Stats - Regular.csv', delimiter=';', encoding='latin1')\n",
    "\n",
    "# Append files\n",
    "appended_df = pd.concat([df1, df2], ignore_index=True)\n",
    "\n",
    "# Save the result\n",
    "appended_df.to_csv('Data File/2023-2024 NBA Player Stats.csv', index=False)\n",
    "\n",
    "# List of Boston Celtics players\n",
    "# Source: https://www.basketball-reference.com/teams/BOS/2024.html\n",
    "celtics_players = [\n",
    "    \"Dalano Banton\",\n",
    "    \"Oshae Brissett\",\n",
    "    \"Jaylen Brown\",\n",
    "    \"JD Davison\",\n",
    "    \"Sam Hauser\",\n",
    "    \"Jrue Holiday\",\n",
    "    \"Al Horford\",\n",
    "    \"Luke Kornet\",\n",
    "    \"Svi Mykhailiuk\",\n",
    "    \"Drew Peterson\",\n",
    "    \"Kristaps Porzingis\",\n",
    "    \"Payton Pritchard\",\n",
    "    \"Neemias Queta\",\n",
    "    \"Jaden Springer\",\n",
    "    \"Lamar Stevens\",\n",
    "    \"Jayson Tatum\",\n",
    "    \"Xavier Tillman Sr.\",\n",
    "    \"Jordan Walsh\",\n",
    "    \"Derrick White\"\n",
    "]\n",
    "\n",
    "# Filter the dataset for players in the Celtics roster\n",
    "filtered_data = appended_df[appended_df['Player'].isin(celtics_players)]\n",
    "\n",
    "# Save the filtered data to a new CSV file\n",
    "filtered_file_path = 'celtics_players_stats.csv'\n",
    "filtered_data.to_csv(filtered_file_path, index=False)\n",
    "'''\n"
   ]
  },
  {
   "cell_type": "code",
   "execution_count": 3,
   "metadata": {},
   "outputs": [
    {
     "name": "stdout",
     "output_type": "stream",
     "text": [
      "{'get': 'players/statistics', 'parameters': {'game': '8133'}, 'errors': [], 'results': 37, 'response': [{'player': {'id': 734, 'firstname': 'Dwayne', 'lastname': 'Bacon'}, 'team': {'id': 26, 'name': 'Orlando Magic', 'nickname': 'Magic', 'code': 'ORL', 'logo': 'https://upload.wikimedia.org/wikipedia/fr/b/bd/Orlando_Magic_logo_2010.png'}, 'game': {'id': 8133}, 'points': 14, 'pos': 'SF', 'min': '21:56', 'fgm': 6, 'fga': 9, 'fgp': '66.7', 'ftm': 1, 'fta': 1, 'ftp': '100', 'tpm': 1, 'tpa': 3, 'tpp': '33.3', 'offReb': 0, 'defReb': 2, 'totReb': 2, 'assists': 1, 'pFouls': 1, 'steals': 2, 'turnovers': 1, 'blocks': 0, 'plusMinus': '6', 'comment': None}, {'player': {'id': 195, 'firstname': 'Aaron', 'lastname': 'Gordon'}, 'team': {'id': 26, 'name': 'Orlando Magic', 'nickname': 'Magic', 'code': 'ORL', 'logo': 'https://upload.wikimedia.org/wikipedia/fr/b/bd/Orlando_Magic_logo_2010.png'}, 'game': {'id': 8133}, 'points': 12, 'pos': 'PF', 'min': '16:19', 'fgm': 4, 'fga': 7, 'fgp': '57.1', 'ftm': 3, 'fta': 3, 'ftp': '100', 'tpm': 1, 'tpa': 2, 'tpp': '50.0', 'offReb': 1, 'defReb': 2, 'totReb': 3, 'assists': 6, 'pFouls': 0, 'steals': 0, 'turnovers': 0, 'blocks': 0, 'plusMinus': '11', 'comment': None}, {'player': {'id': 534, 'firstname': 'Nikola', 'lastname': 'Vucevic'}, 'team': {'id': 26, 'name': 'Orlando Magic', 'nickname': 'Magic', 'code': 'ORL', 'logo': 'https://upload.wikimedia.org/wikipedia/fr/b/bd/Orlando_Magic_logo_2010.png'}, 'game': {'id': 8133}, 'points': 18, 'pos': 'C', 'min': '25:20', 'fgm': 8, 'fga': 14, 'fgp': '57.1', 'ftm': 0, 'fta': 1, 'ftp': '0.0', 'tpm': 2, 'tpa': 7, 'tpp': '28.6', 'offReb': 1, 'defReb': 10, 'totReb': 11, 'assists': 4, 'pFouls': 2, 'steals': 1, 'turnovers': 1, 'blocks': 1, 'plusMinus': '25', 'comment': None}, {'player': {'id': 177, 'firstname': 'Evan', 'lastname': 'Fournier'}, 'team': {'id': 26, 'name': 'Orlando Magic', 'nickname': 'Magic', 'code': 'ORL', 'logo': 'https://upload.wikimedia.org/wikipedia/fr/b/bd/Orlando_Magic_logo_2010.png'}, 'game': {'id': 8133}, 'points': 13, 'pos': 'SG', 'min': '24:51', 'fgm': 5, 'fga': 9, 'fgp': '55.6', 'ftm': 1, 'fta': 1, 'ftp': '100', 'tpm': 2, 'tpa': 5, 'tpp': '40.0', 'offReb': 0, 'defReb': 1, 'totReb': 1, 'assists': 2, 'pFouls': 2, 'steals': 2, 'turnovers': 1, 'blocks': 1, 'plusMinus': '22', 'comment': None}, {'player': {'id': 779, 'firstname': 'Markelle', 'lastname': 'Fultz'}, 'team': {'id': 26, 'name': 'Orlando Magic', 'nickname': 'Magic', 'code': 'ORL', 'logo': 'https://upload.wikimedia.org/wikipedia/fr/b/bd/Orlando_Magic_logo_2010.png'}, 'game': {'id': 8133}, 'points': 10, 'pos': 'PG', 'min': '25:26', 'fgm': 4, 'fga': 7, 'fgp': '57.1', 'ftm': 1, 'fta': 2, 'ftp': '50.0', 'tpm': 1, 'tpa': 3, 'tpp': '33.3', 'offReb': 0, 'defReb': 3, 'totReb': 3, 'assists': 4, 'pFouls': 3, 'steals': 1, 'turnovers': 4, 'blocks': 0, 'plusMinus': '21', 'comment': None}, {'player': {'id': 12, 'firstname': 'Al-Farouq', 'lastname': 'Aminu'}, 'team': {'id': 26, 'name': 'Orlando Magic', 'nickname': 'Magic', 'code': 'ORL', 'logo': 'https://upload.wikimedia.org/wikipedia/fr/b/bd/Orlando_Magic_logo_2010.png'}, 'game': {'id': 8133}, 'points': None, 'pos': None, 'min': None, 'fgm': None, 'fga': None, 'fgp': None, 'ftm': None, 'fta': None, 'ftp': None, 'tpm': None, 'tpa': None, 'tpp': None, 'offReb': None, 'defReb': None, 'totReb': None, 'assists': None, 'pFouls': None, 'steals': None, 'turnovers': None, 'blocks': None, 'plusMinus': None, 'comment': 'DND - Injury / Illness'}, {'player': {'id': 2563, 'firstname': 'Cole', 'lastname': 'Anthony'}, 'team': {'id': 26, 'name': 'Orlando Magic', 'nickname': 'Magic', 'code': 'ORL', 'logo': 'https://upload.wikimedia.org/wikipedia/fr/b/bd/Orlando_Magic_logo_2010.png'}, 'game': {'id': 8133}, 'points': 7, 'pos': None, 'min': '19:59', 'fgm': 3, 'fga': 10, 'fgp': '30.0', 'ftm': 0, 'fta': 0, 'ftp': '0.0', 'tpm': 1, 'tpa': 4, 'tpp': '25.0', 'offReb': 0, 'defReb': 1, 'totReb': 1, 'assists': 3, 'pFouls': 5, 'steals': 1, 'turnovers': 3, 'blocks': 0, 'plusMinus': '-20', 'comment': None}, {'player': {'id': 932, 'firstname': 'Mo', 'lastname': 'Bamba'}, 'team': {'id': 26, 'name': 'Orlando Magic', 'nickname': 'Magic', 'code': 'ORL', 'logo': 'https://upload.wikimedia.org/wikipedia/fr/b/bd/Orlando_Magic_logo_2010.png'}, 'game': {'id': 8133}, 'points': None, 'pos': None, 'min': None, 'fgm': None, 'fga': None, 'fgp': None, 'ftm': None, 'fta': None, 'ftp': None, 'tpm': None, 'tpa': None, 'tpp': None, 'offReb': None, 'defReb': None, 'totReb': None, 'assists': None, 'pFouls': None, 'steals': None, 'turnovers': None, 'blocks': None, 'plusMinus': None, 'comment': 'DND - Injury / Illness'}, {'player': {'id': 739, 'firstname': 'Khem', 'lastname': 'Birch'}, 'team': {'id': 26, 'name': 'Orlando Magic', 'nickname': 'Magic', 'code': 'ORL', 'logo': 'https://upload.wikimedia.org/wikipedia/fr/b/bd/Orlando_Magic_logo_2010.png'}, 'game': {'id': 8133}, 'points': 8, 'pos': None, 'min': '17:56', 'fgm': 3, 'fga': 4, 'fgp': '75.0', 'ftm': 2, 'fta': 3, 'ftp': '66.7', 'tpm': 0, 'tpa': 0, 'tpp': '0.0', 'offReb': 3, 'defReb': 5, 'totReb': 8, 'assists': 0, 'pFouls': 3, 'steals': 1, 'turnovers': 2, 'blocks': 1, 'plusMinus': '-23', 'comment': None}, {'player': {'id': 1850, 'firstname': 'Jordan', 'lastname': 'Bone'}, 'team': {'id': 26, 'name': 'Orlando Magic', 'nickname': 'Magic', 'code': 'ORL', 'logo': 'https://upload.wikimedia.org/wikipedia/fr/b/bd/Orlando_Magic_logo_2010.png'}, 'game': {'id': 8133}, 'points': 5, 'pos': None, 'min': '5:43', 'fgm': 1, 'fga': 3, 'fgp': '33.3', 'ftm': 2, 'fta': 2, 'ftp': '100', 'tpm': 1, 'tpa': 2, 'tpp': '50.0', 'offReb': 0, 'defReb': 2, 'totReb': 2, 'assists': 1, 'pFouls': 0, 'steals': 0, 'turnovers': 0, 'blocks': 0, 'plusMinus': '0', 'comment': None}, {'player': {'id': 2532, 'firstname': 'Devin', 'lastname': 'Cannady'}, 'team': {'id': 26, 'name': 'Orlando Magic', 'nickname': 'Magic', 'code': 'ORL', 'logo': 'https://upload.wikimedia.org/wikipedia/fr/b/bd/Orlando_Magic_logo_2010.png'}, 'game': {'id': 8133}, 'points': 3, 'pos': None, 'min': '7:07', 'fgm': 1, 'fga': 3, 'fgp': '33.3', 'ftm': 0, 'fta': 0, 'ftp': '0.0', 'tpm': 1, 'tpa': 2, 'tpp': '50.0', 'offReb': 0, 'defReb': 1, 'totReb': 1, 'assists': 1, 'pFouls': 1, 'steals': 0, 'turnovers': 0, 'blocks': 1, 'plusMinus': '-8', 'comment': None}, {'player': {'id': 95, 'firstname': 'Michael', 'lastname': 'Carter-Williams'}, 'team': {'id': 26, 'name': 'Orlando Magic', 'nickname': 'Magic', 'code': 'ORL', 'logo': 'https://upload.wikimedia.org/wikipedia/fr/b/bd/Orlando_Magic_logo_2010.png'}, 'game': {'id': 8133}, 'points': 10, 'pos': None, 'min': '24:55', 'fgm': 4, 'fga': 13, 'fgp': '30.8', 'ftm': 2, 'fta': 4, 'ftp': '50.0', 'tpm': 0, 'tpa': 4, 'tpp': '0.0', 'offReb': 2, 'defReb': 3, 'totReb': 5, 'assists': 3, 'pFouls': 2, 'steals': 0, 'turnovers': 1, 'blocks': 2, 'plusMinus': '-12', 'comment': None}, {'player': {'id': 953, 'firstname': 'Gary', 'lastname': 'Clark'}, 'team': {'id': 26, 'name': 'Orlando Magic', 'nickname': 'Magic', 'code': 'ORL', 'logo': 'https://upload.wikimedia.org/wikipedia/fr/b/bd/Orlando_Magic_logo_2010.png'}, 'game': {'id': 8133}, 'points': 2, 'pos': None, 'min': '17:35', 'fgm': 0, 'fga': 2, 'fgp': '0.0', 'ftm': 2, 'fta': 2, 'ftp': '100', 'tpm': 0, 'tpa': 2, 'tpp': '0.0', 'offReb': 0, 'defReb': 3, 'totReb': 3, 'assists': 0, 'pFouls': 2, 'steals': 0, 'turnovers': 1, 'blocks': 1, 'plusMinus': '1', 'comment': None}, {'player': {'id': 160, 'firstname': 'James', 'lastname': 'Ennis III'}, 'team': {'id': 26, 'name': 'Orlando Magic', 'nickname': 'Magic', 'code': 'ORL', 'logo': 'https://upload.wikimedia.org/wikipedia/fr/b/bd/Orlando_Magic_logo_2010.png'}, 'game': {'id': 8133}, 'points': None, 'pos': None, 'min': None, 'fgm': None, 'fga': None, 'fgp': None, 'ftm': None, 'fta': None, 'ftp': None, 'tpm': None, 'tpa': None, 'tpp': None, 'offReb': None, 'defReb': None, 'totReb': None, 'assists': None, 'pFouls': None, 'steals': None, 'turnovers': None, 'blocks': None, 'plusMinus': None, 'comment': 'DNP - Injury / Illness'}, {'player': {'id': 2011, 'firstname': 'Robert', 'lastname': 'Franks'}, 'team': {'id': 26, 'name': 'Orlando Magic', 'nickname': 'Magic', 'code': 'ORL', 'logo': 'https://upload.wikimedia.org/wikipedia/fr/b/bd/Orlando_Magic_logo_2010.png'}, 'game': {'id': 8133}, 'points': 5, 'pos': None, 'min': '7:46', 'fgm': 0, 'fga': 2, 'fgp': '0.0', 'ftm': 5, 'fta': 8, 'ftp': '62.5', 'tpm': 0, 'tpa': 2, 'tpp': '0.0', 'offReb': 0, 'defReb': 0, 'totReb': 0, 'assists': 0, 'pFouls': 3, 'steals': 1, 'turnovers': 0, 'blocks': 0, 'plusMinus': '2', 'comment': None}, {'player': {'id': 801, 'firstname': 'Jonathan', 'lastname': 'Isaac'}, 'team': {'id': 26, 'name': 'Orlando Magic', 'nickname': 'Magic', 'code': 'ORL', 'logo': 'https://upload.wikimedia.org/wikipedia/fr/b/bd/Orlando_Magic_logo_2010.png'}, 'game': {'id': 8133}, 'points': None, 'pos': None, 'min': None, 'fgm': None, 'fga': None, 'fgp': None, 'ftm': None, 'fta': None, 'ftp': None, 'tpm': None, 'tpa': None, 'tpp': None, 'offReb': None, 'defReb': None, 'totReb': None, 'assists': None, 'pFouls': None, 'steals': None, 'turnovers': None, 'blocks': None, 'plusMinus': None, 'comment': 'DND - Injury / Illness'}, {'player': {'id': 2615, 'firstname': 'Karim', 'lastname': 'Mane'}, 'team': {'id': 26, 'name': 'Orlando Magic', 'nickname': 'Magic', 'code': 'ORL', 'logo': 'https://upload.wikimedia.org/wikipedia/fr/b/bd/Orlando_Magic_logo_2010.png'}, 'game': {'id': 8133}, 'points': 0, 'pos': None, 'min': '6:17', 'fgm': 0, 'fga': 1, 'fgp': '0.0', 'ftm': 0, 'fta': 0, 'ftp': '0.0', 'tpm': 0, 'tpa': 1, 'tpp': '0.0', 'offReb': 0, 'defReb': 2, 'totReb': 2, 'assists': 0, 'pFouls': 0, 'steals': 1, 'turnovers': 0, 'blocks': 0, 'plusMinus': '1', 'comment': None}, {'player': {'id': 1883, 'firstname': 'Chuma', 'lastname': 'Okeke'}, 'team': {'id': 26, 'name': 'Orlando Magic', 'nickname': 'Magic', 'code': 'ORL', 'logo': 'https://upload.wikimedia.org/wikipedia/fr/b/bd/Orlando_Magic_logo_2010.png'}, 'game': {'id': 8133}, 'points': 9, 'pos': None, 'min': '14:06', 'fgm': 3, 'fga': 8, 'fgp': '37.5', 'ftm': 1, 'fta': 2, 'ftp': '50.0', 'tpm': 2, 'tpa': 5, 'tpp': '40.0', 'offReb': 1, 'defReb': 2, 'totReb': 3, 'assists': 1, 'pFouls': 3, 'steals': 0, 'turnovers': 1, 'blocks': 1, 'plusMinus': '-8', 'comment': None}, {'player': {'id': 457, 'firstname': 'Terrence', 'lastname': 'Ross'}, 'team': {'id': 26, 'name': 'Orlando Magic', 'nickname': 'Magic', 'code': 'ORL', 'logo': 'https://upload.wikimedia.org/wikipedia/fr/b/bd/Orlando_Magic_logo_2010.png'}, 'game': {'id': 8133}, 'points': None, 'pos': None, 'min': None, 'fgm': None, 'fga': None, 'fgp': None, 'ftm': None, 'fta': None, 'ftp': None, 'tpm': None, 'tpa': None, 'tpp': None, 'offReb': None, 'defReb': None, 'totReb': None, 'assists': None, 'pFouls': None, 'steals': None, 'turnovers': None, 'blocks': None, 'plusMinus': None, 'comment': 'DND - Injury / Illness'}, {'player': {'id': 2653, 'firstname': 'Jon', 'lastname': 'Teske'}, 'team': {'id': 26, 'name': 'Orlando Magic', 'nickname': 'Magic', 'code': 'ORL', 'logo': 'https://upload.wikimedia.org/wikipedia/fr/b/bd/Orlando_Magic_logo_2010.png'}, 'game': {'id': 8133}, 'points': 0, 'pos': None, 'min': '4:44', 'fgm': 0, 'fga': 0, 'fgp': '0.0', 'ftm': 0, 'fta': 0, 'ftp': '0.0', 'tpm': 0, 'tpa': 0, 'tpp': '0.0', 'offReb': 2, 'defReb': 2, 'totReb': 4, 'assists': 0, 'pFouls': 1, 'steals': 0, 'turnovers': 0, 'blocks': 0, 'plusMinus': '2', 'comment': None}, {'player': {'id': 1868, 'firstname': \"De'Andre\", 'lastname': 'Hunter'}, 'team': {'id': 1, 'name': 'Atlanta Hawks', 'nickname': 'Hawks', 'code': 'ATL', 'logo': 'https://upload.wikimedia.org/wikipedia/fr/e/ee/Hawks_2016.png'}, 'game': {'id': 8133}, 'points': 18, 'pos': 'SF', 'min': '26:07', 'fgm': 5, 'fga': 10, 'fgp': '50.0', 'ftm': 6, 'fta': 8, 'ftp': '75.0', 'tpm': 2, 'tpa': 5, 'tpp': '40.0', 'offReb': 1, 'defReb': 2, 'totReb': 3, 'assists': 0, 'pFouls': 3, 'steals': 0, 'turnovers': 1, 'blocks': 1, 'plusMinus': '-9', 'comment': None}, {'player': {'id': 761, 'firstname': 'John', 'lastname': 'Collins'}, 'team': {'id': 1, 'name': 'Atlanta Hawks', 'nickname': 'Hawks', 'code': 'ATL', 'logo': 'https://upload.wikimedia.org/wikipedia/fr/e/ee/Hawks_2016.png'}, 'game': {'id': 8133}, 'points': 14, 'pos': 'PF', 'min': '22:09', 'fgm': 4, 'fga': 6, 'fgp': '66.7', 'ftm': 5, 'fta': 6, 'ftp': '83.3', 'tpm': 1, 'tpa': 1, 'tpp': '100', 'offReb': 4, 'defReb': 5, 'totReb': 9, 'assists': 1, 'pFouls': 4, 'steals': 2, 'turnovers': 4, 'blocks': 1, 'plusMinus': '-4', 'comment': None}, {'player': {'id': 92, 'firstname': 'Clint', 'lastname': 'Capela'}, 'team': {'id': 1, 'name': 'Atlanta Hawks', 'nickname': 'Hawks', 'code': 'ATL', 'logo': 'https://upload.wikimedia.org/wikipedia/fr/e/ee/Hawks_2016.png'}, 'game': {'id': 8133}, 'points': 8, 'pos': 'C', 'min': '20:05', 'fgm': 4, 'fga': 6, 'fgp': '66.7', 'ftm': 0, 'fta': 1, 'ftp': '0.0', 'tpm': 0, 'tpa': 0, 'tpp': '0.0', 'offReb': 5, 'defReb': 9, 'totReb': 14, 'assists': 0, 'pFouls': 0, 'steals': 0, 'turnovers': 2, 'blocks': 0, 'plusMinus': '-5', 'comment': None}, {'player': {'id': 743, 'firstname': 'Bogdan', 'lastname': 'Bogdanovic'}, 'team': {'id': 1, 'name': 'Atlanta Hawks', 'nickname': 'Hawks', 'code': 'ATL', 'logo': 'https://upload.wikimedia.org/wikipedia/fr/e/ee/Hawks_2016.png'}, 'game': {'id': 8133}, 'points': 9, 'pos': 'SG', 'min': '23:18', 'fgm': 3, 'fga': 10, 'fgp': '30.0', 'ftm': 2, 'fta': 2, 'ftp': '100', 'tpm': 1, 'tpa': 5, 'tpp': '20.0', 'offReb': 1, 'defReb': 3, 'totReb': 4, 'assists': 2, 'pFouls': 0, 'steals': 1, 'turnovers': 1, 'blocks': 0, 'plusMinus': '10', 'comment': None}, {'player': {'id': 1046, 'firstname': 'Trae', 'lastname': 'Young'}, 'team': {'id': 1, 'name': 'Atlanta Hawks', 'nickname': 'Hawks', 'code': 'ATL', 'logo': 'https://upload.wikimedia.org/wikipedia/fr/e/ee/Hawks_2016.png'}, 'game': {'id': 8133}, 'points': 7, 'pos': 'PG', 'min': '22:10', 'fgm': 2, 'fga': 9, 'fgp': '22.2', 'ftm': 3, 'fta': 4, 'ftp': '75.0', 'tpm': 0, 'tpa': 2, 'tpp': '0.0', 'offReb': 1, 'defReb': 1, 'totReb': 2, 'assists': 6, 'pFouls': 2, 'steals': 1, 'turnovers': 6, 'blocks': 0, 'plusMinus': '-10', 'comment': None}, {'player': {'id': 152, 'firstname': 'Kris', 'lastname': 'Dunn'}, 'team': {'id': 1, 'name': 'Atlanta Hawks', 'nickname': 'Hawks', 'code': 'ATL', 'logo': 'https://upload.wikimedia.org/wikipedia/fr/e/ee/Hawks_2016.png'}, 'game': {'id': 8133}, 'points': None, 'pos': None, 'min': None, 'fgm': None, 'fga': None, 'fgp': None, 'ftm': None, 'fta': None, 'ftp': None, 'tpm': None, 'tpa': None, 'tpp': None, 'offReb': None, 'defReb': None, 'totReb': None, 'assists': None, 'pFouls': None, 'steals': None, 'turnovers': None, 'blocks': None, 'plusMinus': None, 'comment': 'DND - Injury / Illness'}, {'player': {'id': 1858, 'firstname': 'Bruno', 'lastname': 'Fernando'}, 'team': {'id': 1, 'name': 'Atlanta Hawks', 'nickname': 'Hawks', 'code': 'ATL', 'logo': 'https://upload.wikimedia.org/wikipedia/fr/e/ee/Hawks_2016.png'}, 'game': {'id': 8133}, 'points': 8, 'pos': None, 'min': '17:15', 'fgm': 2, 'fga': 7, 'fgp': '28.6', 'ftm': 4, 'fta': 4, 'ftp': '100', 'tpm': 0, 'tpa': 0, 'tpp': '0.0', 'offReb': 2, 'defReb': 7, 'totReb': 9, 'assists': 0, 'pFouls': 4, 'steals': 0, 'turnovers': 0, 'blocks': 0, 'plusMinus': '-10', 'comment': None}, {'player': {'id': 181, 'firstname': 'Danilo', 'lastname': 'Gallinari'}, 'team': {'id': 1, 'name': 'Atlanta Hawks', 'nickname': 'Hawks', 'code': 'ATL', 'logo': 'https://upload.wikimedia.org/wikipedia/fr/e/ee/Hawks_2016.png'}, 'game': {'id': 8133}, 'points': 14, 'pos': None, 'min': '20:15', 'fgm': 3, 'fga': 7, 'fgp': '42.9', 'ftm': 7, 'fta': 8, 'ftp': '87.5', 'tpm': 1, 'tpa': 5, 'tpp': '20.0', 'offReb': 0, 'defReb': 4, 'totReb': 4, 'assists': 0, 'pFouls': 2, 'steals': 1, 'turnovers': 0, 'blocks': 1, 'plusMinus': '14', 'comment': None}, {'player': {'id': 1063, 'firstname': 'Brandon', 'lastname': 'Goodwin'}, 'team': {'id': 1, 'name': 'Atlanta Hawks', 'nickname': 'Hawks', 'code': 'ATL', 'logo': 'https://upload.wikimedia.org/wikipedia/fr/e/ee/Hawks_2016.png'}, 'game': {'id': 8133}, 'points': 7, 'pos': None, 'min': '17:58', 'fgm': 3, 'fga': 10, 'fgp': '30.0', 'ftm': 0, 'fta': 0, 'ftp': '0.0', 'tpm': 1, 'tpa': 3, 'tpp': '33.3', 'offReb': 1, 'defReb': 1, 'totReb': 2, 'assists': 3, 'pFouls': 1, 'steals': 0, 'turnovers': 2, 'blocks': 0, 'plusMinus': '-4', 'comment': None}, {'player': {'id': 239, 'firstname': 'Solomon', 'lastname': 'Hill'}, 'team': {'id': 1, 'name': 'Atlanta Hawks', 'nickname': 'Hawks', 'code': 'ATL', 'logo': 'https://upload.wikimedia.org/wikipedia/fr/e/ee/Hawks_2016.png'}, 'game': {'id': 8133}, 'points': 3, 'pos': None, 'min': '15:06', 'fgm': 1, 'fga': 2, 'fgp': '50.0', 'ftm': 0, 'fta': 0, 'ftp': '0.0', 'tpm': 1, 'tpa': 2, 'tpp': '50.0', 'offReb': 0, 'defReb': 1, 'totReb': 1, 'assists': 1, 'pFouls': 2, 'steals': 1, 'turnovers': 0, 'blocks': 0, 'plusMinus': '-3', 'comment': None}, {'player': {'id': 980, 'firstname': 'Kevin', 'lastname': 'Huerter'}, 'team': {'id': 1, 'name': 'Atlanta Hawks', 'nickname': 'Hawks', 'code': 'ATL', 'logo': 'https://upload.wikimedia.org/wikipedia/fr/e/ee/Hawks_2016.png'}, 'game': {'id': 8133}, 'points': 8, 'pos': None, 'min': '21:24', 'fgm': 3, 'fga': 11, 'fgp': '27.3', 'ftm': 0, 'fta': 0, 'ftp': '0.0', 'tpm': 2, 'tpa': 5, 'tpp': '40.0', 'offReb': 1, 'defReb': 0, 'totReb': 1, 'assists': 3, 'pFouls': 2, 'steals': 1, 'turnovers': 1, 'blocks': 1, 'plusMinus': '5', 'comment': None}, {'player': {'id': 2607, 'firstname': 'Nathan', 'lastname': 'Knight'}, 'team': {'id': 1, 'name': 'Atlanta Hawks', 'nickname': 'Hawks', 'code': 'ATL', 'logo': 'https://upload.wikimedia.org/wikipedia/fr/e/ee/Hawks_2016.png'}, 'game': {'id': 8133}, 'points': 0, 'pos': None, 'min': '5:43', 'fgm': 0, 'fga': 1, 'fgp': '0.0', 'ftm': 0, 'fta': 0, 'ftp': '0.0', 'tpm': 0, 'tpa': 0, 'tpp': '0.0', 'offReb': 1, 'defReb': 2, 'totReb': 3, 'assists': 0, 'pFouls': 2, 'steals': 0, 'turnovers': 0, 'blocks': 0, 'plusMinus': '0', 'comment': None}, {'player': {'id': 2620, 'firstname': 'Skylar', 'lastname': 'Mays'}, 'team': {'id': 1, 'name': 'Atlanta Hawks', 'nickname': 'Hawks', 'code': 'ATL', 'logo': 'https://upload.wikimedia.org/wikipedia/fr/e/ee/Hawks_2016.png'}, 'game': {'id': 8133}, 'points': 3, 'pos': None, 'min': '5:30', 'fgm': 0, 'fga': 3, 'fgp': '0.0', 'ftm': 3, 'fta': 4, 'ftp': '75.0', 'tpm': 0, 'tpa': 1, 'tpp': '0.0', 'offReb': 1, 'defReb': 0, 'totReb': 1, 'assists': 1, 'pFouls': 1, 'steals': 0, 'turnovers': 0, 'blocks': 0, 'plusMinus': '-2', 'comment': None}, {'player': {'id': 2629, 'firstname': 'Onyeka', 'lastname': 'Okongwu'}, 'team': {'id': 1, 'name': 'Atlanta Hawks', 'nickname': 'Hawks', 'code': 'ATL', 'logo': 'https://upload.wikimedia.org/wikipedia/fr/e/ee/Hawks_2016.png'}, 'game': {'id': 8133}, 'points': None, 'pos': None, 'min': None, 'fgm': None, 'fga': None, 'fgp': None, 'ftm': None, 'fta': None, 'ftp': None, 'tpm': None, 'tpa': None, 'tpp': None, 'offReb': None, 'defReb': None, 'totReb': None, 'assists': None, 'pFouls': None, 'steals': None, 'turnovers': None, 'blocks': None, 'plusMinus': None, 'comment': 'DND - Injury / Illness'}, {'player': {'id': 1889, 'firstname': 'Cam', 'lastname': 'Reddish'}, 'team': {'id': 1, 'name': 'Atlanta Hawks', 'nickname': 'Hawks', 'code': 'ATL', 'logo': 'https://upload.wikimedia.org/wikipedia/fr/e/ee/Hawks_2016.png'}, 'game': {'id': 8133}, 'points': 13, 'pos': None, 'min': '22:58', 'fgm': 4, 'fga': 10, 'fgp': '40.0', 'ftm': 4, 'fta': 4, 'ftp': '100', 'tpm': 1, 'tpa': 3, 'tpp': '33.3', 'offReb': 1, 'defReb': 7, 'totReb': 8, 'assists': 3, 'pFouls': 2, 'steals': 1, 'turnovers': 6, 'blocks': 0, 'plusMinus': '-2', 'comment': None}, {'player': {'id': 455, 'firstname': 'Rajon', 'lastname': 'Rondo'}, 'team': {'id': 1, 'name': 'Atlanta Hawks', 'nickname': 'Hawks', 'code': 'ATL', 'logo': 'https://upload.wikimedia.org/wikipedia/fr/e/ee/Hawks_2016.png'}, 'game': {'id': 8133}, 'points': None, 'pos': None, 'min': None, 'fgm': None, 'fga': None, 'fgp': None, 'ftm': None, 'fta': None, 'ftp': None, 'tpm': None, 'tpa': None, 'tpp': None, 'offReb': None, 'defReb': None, 'totReb': None, 'assists': None, 'pFouls': None, 'steals': None, 'turnovers': None, 'blocks': None, 'plusMinus': None, 'comment': 'DND - Injury / Illness'}, {'player': {'id': 492, 'firstname': 'Tony', 'lastname': 'Snell'}, 'team': {'id': 1, 'name': 'Atlanta Hawks', 'nickname': 'Hawks', 'code': 'ATL', 'logo': 'https://upload.wikimedia.org/wikipedia/fr/e/ee/Hawks_2016.png'}, 'game': {'id': 8133}, 'points': None, 'pos': None, 'min': None, 'fgm': None, 'fga': None, 'fgp': None, 'ftm': None, 'fta': None, 'ftp': None, 'tpm': None, 'tpa': None, 'tpp': None, 'offReb': None, 'defReb': None, 'totReb': None, 'assists': None, 'pFouls': None, 'steals': None, 'turnovers': None, 'blocks': None, 'plusMinus': None, 'comment': 'NWT - Injury / Illness'}]}\n"
     ]
    }
   ],
   "source": [
    "url = \"https://api-nba-v1.p.rapidapi.com/players/statistics\"\n",
    "\n",
    "querystring = {\"game\":\"8133\"}\n",
    "\n",
    "headers = {\n",
    "\t\"x-rapidapi-key\": \"cfc60e01bfmsh701f46dd86311bdp1b7a58jsn23abd5aa11ff\",\n",
    "\t\"x-rapidapi-host\": \"api-nba-v1.p.rapidapi.com\"\n",
    "}\n",
    "\n",
    "response = requests.get(url, headers=headers, params=querystring)\n",
    "\n",
    "print(response.json())"
   ]
  },
  {
   "cell_type": "code",
   "execution_count": 4,
   "metadata": {},
   "outputs": [],
   "source": [
    "# API endpoint\n",
    "url = \"https://api-nba-v1.p.rapidapi.com/teams\"\n",
    "\n",
    "# Headers with API key\n",
    "headers = {\n",
    "\t\"x-rapidapi-key\": \"cfc60e01bfmsh701f46dd86311bdp1b7a58jsn23abd5aa11ff\",\n",
    "\t\"x-rapidapi-host\": \"api-nba-v1.p.rapidapi.com\"\n",
    "}\n",
    "\n",
    "# Make the request\n",
    "response = requests.get(url, headers=headers)\n",
    "\n",
    "# Check if the request was successful\n",
    "if response.status_code == 200:\n",
    "    teams = response.json().get('response', [])\n",
    "    # Find Celtics\n",
    "    celtics_team = next((team for team in teams if team.get(\"name\") == \"Boston Celtics\"), None)\n",
    "    if celtics_team:\n",
    "        celtics_id = celtics_team.get(\"id\")\n",
    "    else:\n",
    "        print(\"Boston Celtics not found in the response.\")\n",
    "else:\n",
    "    print(f\"Failed to retrieve teams. Status code: {response.status_code}\")"
   ]
  },
  {
   "cell_type": "code",
   "execution_count": 5,
   "metadata": {},
   "outputs": [
    {
     "name": "stdout",
     "output_type": "stream",
     "text": [
      "{'get': 'games/', 'parameters': {'id': '2'}, 'errors': [], 'results': 1, 'response': [{'id': 2, 'league': 'standard', 'season': 2015, 'date': {'start': '2015-10-03T23:00:00.000Z', 'end': '2015-10-04T01:28:00.000Z', 'duration': '2:17'}, 'stage': 1, 'status': {'clock': None, 'halftime': False, 'short': 3, 'long': 'Finished'}, 'periods': {'current': 4, 'total': 4, 'endOfPeriod': False}, 'arena': {'name': 'Amway Center', 'city': 'Orlando', 'state': 'FL', 'country': None}, 'teams': {'visitors': {'id': 5, 'name': 'Charlotte Hornets', 'nickname': 'Hornets', 'code': 'CHA', 'logo': 'https://upload.wikimedia.org/wikipedia/fr/thumb/f/f3/Hornets_de_Charlotte_logo.svg/1200px-Hornets_de_Charlotte_logo.svg.png'}, 'home': {'id': 26, 'name': 'Orlando Magic', 'nickname': 'Magic', 'code': 'ORL', 'logo': 'https://upload.wikimedia.org/wikipedia/fr/b/bd/Orlando_Magic_logo_2010.png'}}, 'scores': {'visitors': {'win': 1, 'loss': 0, 'series': {'win': 0, 'loss': 0}, 'linescore': ['24', '24', '37', '21'], 'points': 106}, 'home': {'win': 0, 'loss': 1, 'series': {'win': 0, 'loss': 0}, 'linescore': ['29', '22', '25', '24'], 'points': 100}}, 'officials': ['Derrick Stafford', 'CJ Washington', 'James Williams'], 'timesTied': 2, 'leadChanges': 3, 'nugget': None}]}\n"
     ]
    }
   ],
   "source": [
    "# API endpoint\n",
    "url = \"https://api-nba-v1.p.rapidapi.com/games\"\n",
    "\n",
    "query_params = {\n",
    "    \"id\": celtics_id\n",
    "}\n",
    "\n",
    "response = requests.get(url, headers=headers, params=query_params)\n",
    "\n",
    "print(response.json())"
   ]
  },
  {
   "cell_type": "code",
   "execution_count": 6,
   "metadata": {},
   "outputs": [
    {
     "name": "stdout",
     "output_type": "stream",
     "text": [
      "Game Data: {'get': 'teams/statistics', 'parameters': {'id': '2', 'season': '2023'}, 'errors': [], 'results': 1, 'response': [{'games': 106, 'fastBreakPoints': 0, 'pointsInPaint': 0, 'biggestLead': 0, 'secondChancePoints': 0, 'pointsOffTurnovers': 0, 'longestRun': 0, 'points': 12537, 'fgm': 4556, 'fga': 9444, 'fgp': '62.8', 'ftm': 1720, 'fta': 2134, 'ftp': '79.9', 'tpm': 1705, 'tpa': 4473, 'tpp': '38.0', 'offReb': 1126, 'defReb': 3738, 'totReb': 4864, 'assists': 2781, 'pFouls': 1723, 'steals': 726, 'turnovers': 1278, 'blocks': 663, 'plusMinus': 1136}]}\n"
     ]
    }
   ],
   "source": [
    "# API endpoint\n",
    "url = \"https://api-nba-v1.p.rapidapi.com/teams/statistics\"\n",
    "\n",
    "# Headers including the API key (replace 'YOUR_RAPIDAPI_KEY' with your actual key)\n",
    "headers = {\n",
    "\t\"x-rapidapi-key\": \"cfc60e01bfmsh701f46dd86311bdp1b7a58jsn23abd5aa11ff\",\n",
    "\t\"x-rapidapi-host\": \"api-nba-v1.p.rapidapi.com\"\n",
    "}\n",
    "\n",
    "# Query parameters to get Celtics 2023-2024 season games\n",
    "query_params = {\n",
    "    'id': '2',\n",
    "    \"season\": \"2023\"\n",
    "}\n",
    "\n",
    "# Make the request\n",
    "response = requests.get(url, headers=headers, params=query_params)\n",
    "\n",
    "# Check if the response was successful\n",
    "if response.status_code == 200:\n",
    "    # Parse JSON response\n",
    "    data = response.json()\n",
    "    print(\"Game Data:\", data)\n",
    "else:\n",
    "    print(f\"Failed to retrieve data. Status code: {response.status_code}\")"
   ]
  },
  {
   "cell_type": "code",
   "execution_count": 7,
   "metadata": {},
   "outputs": [],
   "source": [
    "# Importing the NBA API endpoints module to access specific data such as player stats, game details, and team information\n",
    "# Source: https://github.com/swar/nba_api\n",
    "from nba_api.stats.endpoints import commonteamroster, playergamelog, shotchartdetail\n",
    "from nba_api.stats.static import teams\n",
    "\n",
    "# Get Boston Celtics Team ID\n",
    "all_teams = teams.get_teams()\n",
    "celtics_info = [team for team in all_teams if team['full_name'] == 'Boston Celtics'][0]\n",
    "team_id = celtics_info['id']\n",
    "\n",
    "# Fetch Team Roster\n",
    "roster = commonteamroster.CommonTeamRoster(team_id=team_id)\n",
    "\n",
    "# Convert the response to a DataFrame\n",
    "roster_df = roster.get_data_frames()[0]\n",
    "\n",
    "# Filter the roster for the 2023-2024 season\n",
    "roster_2024 = roster_df[roster_df['SEASON'] == '2024']"
   ]
  },
  {
   "cell_type": "code",
   "execution_count": 8,
   "metadata": {},
   "outputs": [
    {
     "name": "stdout",
     "output_type": "stream",
     "text": [
      "Fetching game logs for Jayson Tatum...\n",
      "Fetching game logs for Jrue Holiday...\n",
      "Fetching game logs for Jaylen Brown...\n",
      "Fetching game logs for Kristaps Porziņģis...\n",
      "Fetching game logs for Derrick White...\n",
      "Fetching game logs for Payton Pritchard...\n",
      "Fetching game logs for Drew Peterson...\n",
      "Fetching game logs for JD Davison...\n",
      "Fetching game logs for Xavier Tillman...\n",
      "Fetching game logs for Jordan Walsh...\n",
      "Fetching game logs for Anton Watson...\n",
      "Fetching game logs for Sam Hauser...\n",
      "Fetching game logs for Luke Kornet...\n",
      "Fetching game logs for Al Horford...\n",
      "Fetching game logs for Jaden Springer...\n",
      "Fetching game logs for Baylor Scheierman...\n",
      "Fetching game logs for Neemias Queta...\n"
     ]
    }
   ],
   "source": [
    "# Extract player IDs and names\n",
    "players = roster_df[['PLAYER_ID', 'PLAYER']].to_dict('records')\n",
    "\n",
    "# Fetch Game Logs for Each Player\n",
    "all_game_logs = []\n",
    "\n",
    "for player in players:\n",
    "    player_id = player['PLAYER_ID']\n",
    "    player_name = player['PLAYER']\n",
    "    print(f\"Fetching game logs for {player_name}...\")\n",
    "\n",
    "    # Fetch game log\n",
    "    gamelog = playergamelog.PlayerGameLog(player_id=player_id, season=\"2023-24\")\n",
    "    player_gamelog_df = gamelog.get_data_frames()[0]\n",
    "\n",
    "    # Add player name to the DataFrame\n",
    "    player_gamelog_df['PLAYER'] = player_name\n",
    "\n",
    "    # Append to the list\n",
    "    all_game_logs.append(player_gamelog_df)\n",
    "\n",
    "# Combine All Game Logs into a Single DataFrame\n",
    "combined_logs_df = pd.concat(all_game_logs, ignore_index=True)\n",
    "\n",
    "# Create a dictionary of injury dates\n",
    "# Source: https://www.nbcsports.com/nba/boston-celtics/injuries\n",
    "injury_data = [\n",
    "    {\"PLAYER\": \"Kristaps Porzingis\", \"INJURY_DATE\": \"2024-04-29\"},\n",
    "    {\"PLAYER\": \"Oshae Brissett\", \"INJURY_DATE\": \"2024-04-11\"},\n",
    "    {\"PLAYER\": \"JD Davison\", \"INJURY_DATE\": \"2024-03-27\"},\n",
    "    {\"PLAYER\": \"Lamar Stevens\", \"INJURY_DATE\": \"2023-12-24\"},\n",
    "    {\"PLAYER\": \"Svi Mykhailiuk\", \"INJURY_DATE\": \"2023-12-22\"},\n",
    "    {\"PLAYER\": \"Jay Scrubb\", \"INJURY_DATE\": \"2023-10-08\"}\n",
    "]\n",
    "\n",
    "# Convert injury data to a DataFrame\n",
    "injury_df = pd.DataFrame(injury_data)\n",
    "\n",
    "# Merge the injury date column with the player performance dataset\n",
    "merged_df = combined_logs_df.merge(injury_df, on=\"PLAYER\", how=\"left\")\n",
    "merged_df['INJURY_DATE'] = pd.to_datetime(merged_df['INJURY_DATE'])\n",
    "\n",
    "# Save the combined logs to a CSV file\n",
    "merged_df.to_csv(\"celtics_player_performance.csv\", index=False)"
   ]
  },
  {
   "cell_type": "code",
   "execution_count": 9,
   "metadata": {},
   "outputs": [
    {
     "name": "stdout",
     "output_type": "stream",
     "text": [
      "Fetching shot chart details for Jayson Tatum...\n",
      "Fetching shot chart details for Jrue Holiday...\n",
      "Fetching shot chart details for Jaylen Brown...\n",
      "Fetching shot chart details for Kristaps Porziņģis...\n",
      "Fetching shot chart details for Derrick White...\n",
      "Fetching shot chart details for Payton Pritchard...\n",
      "Fetching shot chart details for Drew Peterson...\n",
      "Fetching shot chart details for JD Davison...\n",
      "Fetching shot chart details for Xavier Tillman...\n",
      "Fetching shot chart details for Jordan Walsh...\n",
      "Fetching shot chart details for Anton Watson...\n",
      "Fetching shot chart details for Sam Hauser...\n",
      "Fetching shot chart details for Luke Kornet...\n",
      "Fetching shot chart details for Al Horford...\n",
      "Fetching shot chart details for Jaden Springer...\n",
      "Fetching shot chart details for Baylor Scheierman...\n",
      "Fetching shot chart details for Neemias Queta...\n"
     ]
    }
   ],
   "source": [
    "# Fetch Shot Chart Details for Each Player\n",
    "all_shot_data = []\n",
    "\n",
    "for player in players:\n",
    "    player_id = player['PLAYER_ID']\n",
    "    player_name = player['PLAYER']\n",
    "    print(f\"Fetching shot chart details for {player_name}...\")\n",
    "\n",
    "    # Fetch shot chart details\n",
    "    shotchart = shotchartdetail.ShotChartDetail(\n",
    "        team_id=team_id,\n",
    "        player_id=player_id,\n",
    "        season_nullable=\"2023-24\",  # Specify the season\n",
    "        context_measure_simple=\"FGA\"  # Focus on Field Goal Attempts\n",
    "    )\n",
    "\n",
    "    # Convert to DataFrame\n",
    "    shotchart_df = shotchart.get_data_frames()[0]\n",
    "\n",
    "    # Add player name to the DataFrame\n",
    "    shotchart_df['PLAYER'] = player_name\n",
    "\n",
    "    # Append to the list\n",
    "    all_shot_data.append(shotchart_df)\n",
    "\n",
    "# Combine All Shot Data into a Single DataFrame\n",
    "combined_shot_data = pd.concat(all_shot_data, ignore_index=True)\n",
    "\n",
    "# Save to CSV\n",
    "combined_shot_data.to_csv(\"celtics_shot_chart_details.csv\", index=False)"
   ]
  },
  {
   "cell_type": "code",
   "execution_count": null,
   "metadata": {},
   "outputs": [],
   "source": []
  }
 ],
 "metadata": {
  "kernelspec": {
   "display_name": "si649",
   "language": "python",
   "name": "python3"
  },
  "language_info": {
   "codemirror_mode": {
    "name": "ipython",
    "version": 3
   },
   "file_extension": ".py",
   "mimetype": "text/x-python",
   "name": "python",
   "nbconvert_exporter": "python",
   "pygments_lexer": "ipython3",
   "version": "3.10.13"
  }
 },
 "nbformat": 4,
 "nbformat_minor": 2
}
